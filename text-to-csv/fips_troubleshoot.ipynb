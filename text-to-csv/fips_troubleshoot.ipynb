{
 "cells": [
  {
   "cell_type": "code",
   "execution_count": 114,
   "metadata": {},
   "outputs": [],
   "source": [
    "import pandas as pd\n",
    "import geopandas as gpd\n",
    "import numpy as np\n",
    "import csv "
   ]
  },
  {
   "attachments": {},
   "cell_type": "markdown",
   "metadata": {},
   "source": [
    "The Census Bureau provides 'relationship files' that show how to convert 2010 and 2020 fips codes.  \n",
    "https://www.census.gov/geographies/reference-files/time-series/geo/relationship-files.2020.html#tract\n",
    "\n",
    "In the cell below, I used chatGPT to help me write function that would convert the Census Bureau's .txt file to a csv file"
   ]
  },
  {
   "cell_type": "code",
   "execution_count": 10,
   "metadata": {},
   "outputs": [
    {
     "name": "stdout",
     "output_type": "stream",
     "text": [
      "Text file \"/Users/jacoblapp/Downloads/tab20_tract20_tract10_natl.txt\" converted to CSV file \"/Users/jacoblapp/Downloads/tract_output.csv\" successfully.\n"
     ]
    }
   ],
   "source": [
    "\n",
    "# Define the path to your input text file\n",
    "text_file_path = '/Users/jacoblapp/Downloads/tab20_tract20_tract10_natl.txt'\n",
    "\n",
    "# Define the path to the output CSV file\n",
    "csv_file_path = '/Users/jacoblapp/Downloads/tract_output.csv'\n",
    "\n",
    "# Define the custom delimiter for the text file\n",
    "custom_delimiter = '|'  # this is the delimiter used in the Census Bureau's relationship file\n",
    "\n",
    "# Open the input text file in read mode\n",
    "with open(text_file_path, 'r') as text_file:\n",
    "    # Read the lines of the text file\n",
    "    lines = text_file.readlines()\n",
    "\n",
    "# Open the output CSV file in write mode\n",
    "with open(csv_file_path, 'w', newline='') as csv_file:\n",
    "    # Create a CSV writer object\n",
    "    csv_writer = csv.writer(csv_file)\n",
    "\n",
    "    # Iterate through each line in the text file\n",
    "    for line in lines:\n",
    "        # Remove leading and trailing whitespace\n",
    "        line = line.strip()\n",
    "\n",
    "        # Split the line into fields using the custom delimiter\n",
    "        fields = line.split(custom_delimiter)\n",
    "\n",
    "        # Write the fields to the CSV file\n",
    "        csv_writer.writerow(fields)\n",
    "\n",
    "print(f'Text file \"{text_file_path}\" converted to CSV file \"{csv_file_path}\" successfully.')\n"
   ]
  },
  {
   "cell_type": "code",
   "execution_count": 58,
   "metadata": {},
   "outputs": [
    {
     "data": {
      "text/html": [
       "<div>\n",
       "<style scoped>\n",
       "    .dataframe tbody tr th:only-of-type {\n",
       "        vertical-align: middle;\n",
       "    }\n",
       "\n",
       "    .dataframe tbody tr th {\n",
       "        vertical-align: top;\n",
       "    }\n",
       "\n",
       "    .dataframe thead th {\n",
       "        text-align: right;\n",
       "    }\n",
       "</style>\n",
       "<table border=\"1\" class=\"dataframe\">\n",
       "  <thead>\n",
       "    <tr style=\"text-align: right;\">\n",
       "      <th></th>\n",
       "      <th>OID_TRACT_20</th>\n",
       "      <th>GEOID_TRACT_20</th>\n",
       "      <th>NAMELSAD_TRACT_20</th>\n",
       "      <th>AREALAND_TRACT_20</th>\n",
       "      <th>AREAWATER_TRACT_20</th>\n",
       "      <th>MTFCC_TRACT_20</th>\n",
       "      <th>FUNCSTAT_TRACT_20</th>\n",
       "      <th>OID_TRACT_10</th>\n",
       "      <th>GEOID_TRACT_10</th>\n",
       "      <th>NAMELSAD_TRACT_10</th>\n",
       "      <th>AREALAND_TRACT_10</th>\n",
       "      <th>AREAWATER_TRACT_10</th>\n",
       "      <th>MTFCC_TRACT_10</th>\n",
       "      <th>FUNCSTAT_TRACT_10</th>\n",
       "      <th>AREALAND_PART</th>\n",
       "      <th>AREAWATER_PART</th>\n",
       "    </tr>\n",
       "  </thead>\n",
       "  <tbody>\n",
       "    <tr>\n",
       "      <th>0</th>\n",
       "      <td>20790540092527</td>\n",
       "      <td>1001020100</td>\n",
       "      <td>Census Tract 201</td>\n",
       "      <td>9825304</td>\n",
       "      <td>28435</td>\n",
       "      <td>G5020</td>\n",
       "      <td>S</td>\n",
       "      <td>20740540092527</td>\n",
       "      <td>1001020100</td>\n",
       "      <td>Census Tract 201</td>\n",
       "      <td>9827271</td>\n",
       "      <td>28435</td>\n",
       "      <td>G5020</td>\n",
       "      <td>S</td>\n",
       "      <td>9820448</td>\n",
       "      <td>28435</td>\n",
       "    </tr>\n",
       "    <tr>\n",
       "      <th>1</th>\n",
       "      <td>20790540092527</td>\n",
       "      <td>1001020100</td>\n",
       "      <td>Census Tract 201</td>\n",
       "      <td>9825304</td>\n",
       "      <td>28435</td>\n",
       "      <td>G5020</td>\n",
       "      <td>S</td>\n",
       "      <td>20740540092534</td>\n",
       "      <td>1001020200</td>\n",
       "      <td>Census Tract 202</td>\n",
       "      <td>3325674</td>\n",
       "      <td>5669</td>\n",
       "      <td>G5020</td>\n",
       "      <td>S</td>\n",
       "      <td>4856</td>\n",
       "      <td>0</td>\n",
       "    </tr>\n",
       "    <tr>\n",
       "      <th>2</th>\n",
       "      <td>20790540092534</td>\n",
       "      <td>1001020200</td>\n",
       "      <td>Census Tract 202</td>\n",
       "      <td>3320818</td>\n",
       "      <td>5669</td>\n",
       "      <td>G5020</td>\n",
       "      <td>S</td>\n",
       "      <td>20740540092534</td>\n",
       "      <td>1001020200</td>\n",
       "      <td>Census Tract 202</td>\n",
       "      <td>3325674</td>\n",
       "      <td>5669</td>\n",
       "      <td>G5020</td>\n",
       "      <td>S</td>\n",
       "      <td>3320818</td>\n",
       "      <td>5669</td>\n",
       "    </tr>\n",
       "    <tr>\n",
       "      <th>3</th>\n",
       "      <td>20790540092528</td>\n",
       "      <td>1001020300</td>\n",
       "      <td>Census Tract 203</td>\n",
       "      <td>5349271</td>\n",
       "      <td>9054</td>\n",
       "      <td>G5020</td>\n",
       "      <td>S</td>\n",
       "      <td>20740540092528</td>\n",
       "      <td>1001020300</td>\n",
       "      <td>Census Tract 203</td>\n",
       "      <td>5349271</td>\n",
       "      <td>9054</td>\n",
       "      <td>G5020</td>\n",
       "      <td>S</td>\n",
       "      <td>5349271</td>\n",
       "      <td>9054</td>\n",
       "    </tr>\n",
       "    <tr>\n",
       "      <th>4</th>\n",
       "      <td>20790540092529</td>\n",
       "      <td>1001020400</td>\n",
       "      <td>Census Tract 204</td>\n",
       "      <td>6384282</td>\n",
       "      <td>8408</td>\n",
       "      <td>G5020</td>\n",
       "      <td>S</td>\n",
       "      <td>20740540092529</td>\n",
       "      <td>1001020400</td>\n",
       "      <td>Census Tract 204</td>\n",
       "      <td>6384282</td>\n",
       "      <td>8408</td>\n",
       "      <td>G5020</td>\n",
       "      <td>S</td>\n",
       "      <td>6384282</td>\n",
       "      <td>8408</td>\n",
       "    </tr>\n",
       "  </tbody>\n",
       "</table>\n",
       "</div>"
      ],
      "text/plain": [
       "     OID_TRACT_20  GEOID_TRACT_20 NAMELSAD_TRACT_20  AREALAND_TRACT_20  \\\n",
       "0  20790540092527      1001020100  Census Tract 201            9825304   \n",
       "1  20790540092527      1001020100  Census Tract 201            9825304   \n",
       "2  20790540092534      1001020200  Census Tract 202            3320818   \n",
       "3  20790540092528      1001020300  Census Tract 203            5349271   \n",
       "4  20790540092529      1001020400  Census Tract 204            6384282   \n",
       "\n",
       "   AREAWATER_TRACT_20 MTFCC_TRACT_20 FUNCSTAT_TRACT_20    OID_TRACT_10  \\\n",
       "0               28435          G5020                 S  20740540092527   \n",
       "1               28435          G5020                 S  20740540092534   \n",
       "2                5669          G5020                 S  20740540092534   \n",
       "3                9054          G5020                 S  20740540092528   \n",
       "4                8408          G5020                 S  20740540092529   \n",
       "\n",
       "   GEOID_TRACT_10 NAMELSAD_TRACT_10  AREALAND_TRACT_10  AREAWATER_TRACT_10  \\\n",
       "0      1001020100  Census Tract 201            9827271               28435   \n",
       "1      1001020200  Census Tract 202            3325674                5669   \n",
       "2      1001020200  Census Tract 202            3325674                5669   \n",
       "3      1001020300  Census Tract 203            5349271                9054   \n",
       "4      1001020400  Census Tract 204            6384282                8408   \n",
       "\n",
       "  MTFCC_TRACT_10 FUNCSTAT_TRACT_10  AREALAND_PART  AREAWATER_PART  \n",
       "0          G5020                 S        9820448           28435  \n",
       "1          G5020                 S           4856               0  \n",
       "2          G5020                 S        3320818            5669  \n",
       "3          G5020                 S        5349271            9054  \n",
       "4          G5020                 S        6384282            8408  "
      ]
     },
     "execution_count": 58,
     "metadata": {},
     "output_type": "execute_result"
    }
   ],
   "source": [
    "tract_sheet = pd.read_csv('/Users/jacoblapp/Downloads/tract_output.csv', skipinitialspace=True)\n",
    "tract_sheet.head()"
   ]
  },
  {
   "attachments": {},
   "cell_type": "markdown",
   "metadata": {},
   "source": [
    "Now I load the ejscreen geopandas database as 'ej' and I load the cejst data as 'cejst'"
   ]
  },
  {
   "cell_type": "code",
   "execution_count": 13,
   "metadata": {},
   "outputs": [],
   "source": [
    "ej = gpd.read_file('/Users/jacoblapp/Desktop/Sci4GA/sci4ga_ej_tools_and_data/EJSCREEN_2023_Tracts_StatePct_with_AS_CNMI_GU_VI.gdb')\n",
    "ga_ej = ej[ej['STATE_NAME'] == 'Georgia']\n",
    "\n",
    "cejst = gpd.read_file('/Users/jacoblapp/Desktop/Sci4GA/sci4ga_ej_tools_and_data/cejst.shp')\n",
    "ga_cejst = cejst[cejst['SF'] == 'Georgia']"
   ]
  },
  {
   "cell_type": "code",
   "execution_count": 22,
   "metadata": {},
   "outputs": [
    {
     "data": {
      "text/html": [
       "<div>\n",
       "<style scoped>\n",
       "    .dataframe tbody tr th:only-of-type {\n",
       "        vertical-align: middle;\n",
       "    }\n",
       "\n",
       "    .dataframe tbody tr th {\n",
       "        vertical-align: top;\n",
       "    }\n",
       "\n",
       "    .dataframe thead th {\n",
       "        text-align: right;\n",
       "    }\n",
       "</style>\n",
       "<table border=\"1\" class=\"dataframe\">\n",
       "  <thead>\n",
       "    <tr style=\"text-align: right;\">\n",
       "      <th></th>\n",
       "      <th>GEOID_TRACT_20</th>\n",
       "      <th>GEOID_TRACT_10</th>\n",
       "    </tr>\n",
       "  </thead>\n",
       "  <tbody>\n",
       "    <tr>\n",
       "      <th>0</th>\n",
       "      <td>1001020100</td>\n",
       "      <td>1001020100</td>\n",
       "    </tr>\n",
       "    <tr>\n",
       "      <th>1</th>\n",
       "      <td>1001020100</td>\n",
       "      <td>1001020200</td>\n",
       "    </tr>\n",
       "    <tr>\n",
       "      <th>2</th>\n",
       "      <td>1001020200</td>\n",
       "      <td>1001020200</td>\n",
       "    </tr>\n",
       "    <tr>\n",
       "      <th>3</th>\n",
       "      <td>1001020300</td>\n",
       "      <td>1001020300</td>\n",
       "    </tr>\n",
       "    <tr>\n",
       "      <th>4</th>\n",
       "      <td>1001020400</td>\n",
       "      <td>1001020400</td>\n",
       "    </tr>\n",
       "    <tr>\n",
       "      <th>...</th>\n",
       "      <td>...</td>\n",
       "      <td>...</td>\n",
       "    </tr>\n",
       "    <tr>\n",
       "      <th>126445</th>\n",
       "      <td>78030961100</td>\n",
       "      <td>78030961200</td>\n",
       "    </tr>\n",
       "    <tr>\n",
       "      <th>126446</th>\n",
       "      <td>78030961200</td>\n",
       "      <td>78030960400</td>\n",
       "    </tr>\n",
       "    <tr>\n",
       "      <th>126447</th>\n",
       "      <td>78030961200</td>\n",
       "      <td>78030961100</td>\n",
       "    </tr>\n",
       "    <tr>\n",
       "      <th>126448</th>\n",
       "      <td>78030961200</td>\n",
       "      <td>78030961200</td>\n",
       "    </tr>\n",
       "    <tr>\n",
       "      <th>126449</th>\n",
       "      <td>78030990000</td>\n",
       "      <td>78030990000</td>\n",
       "    </tr>\n",
       "  </tbody>\n",
       "</table>\n",
       "<p>126450 rows × 2 columns</p>\n",
       "</div>"
      ],
      "text/plain": [
       "        GEOID_TRACT_20  GEOID_TRACT_10\n",
       "0           1001020100      1001020100\n",
       "1           1001020100      1001020200\n",
       "2           1001020200      1001020200\n",
       "3           1001020300      1001020300\n",
       "4           1001020400      1001020400\n",
       "...                ...             ...\n",
       "126445     78030961100     78030961200\n",
       "126446     78030961200     78030960400\n",
       "126447     78030961200     78030961100\n",
       "126448     78030961200     78030961200\n",
       "126449     78030990000     78030990000\n",
       "\n",
       "[126450 rows x 2 columns]"
      ]
     },
     "execution_count": 22,
     "metadata": {},
     "output_type": "execute_result"
    }
   ],
   "source": [
    "tract_sheet.loc[:, ['GEOID_TRACT_20', 'GEOID_TRACT_10']]"
   ]
  },
  {
   "cell_type": "code",
   "execution_count": 122,
   "metadata": {},
   "outputs": [],
   "source": [
    "ej_ids = np.int64(pd.Series(ga_ej.ID))\n",
    "cejst_ids = np.int64(pd.Series(ga_cejst.GEOID10))\n",
    "id20 = pd.Series(tract_sheet.GEOID_TRACT_20)\n",
    "id10 = pd.Series(tract_sheet.GEOID_TRACT_10)"
   ]
  },
  {
   "cell_type": "code",
   "execution_count": 123,
   "metadata": {},
   "outputs": [
    {
     "name": "stdout",
     "output_type": "stream",
     "text": [
      "1969 2796 126450 126450\n"
     ]
    }
   ],
   "source": [
    "print(len(cejst_ids), len(ej_ids), len(id20), len(id10))"
   ]
  },
  {
   "cell_type": "code",
   "execution_count": 189,
   "metadata": {},
   "outputs": [
    {
     "name": "stdout",
     "output_type": "stream",
     "text": [
      "True\n",
      "True\n",
      "int64 int64 int64 int64\n"
     ]
    }
   ],
   "source": [
    "print(any(element in ej_ids for element in id20))\n",
    "print(ej_ids.dtype == cejst_ids.dtype == id20.dtype == id10.dtype) # need all same data types\n",
    "print(id20.dtype, id10.dtype, cejst_ids.dtype, ej_ids.dtype) # gotta convert our series from shp files to int64"
   ]
  },
  {
   "attachments": {},
   "cell_type": "markdown",
   "metadata": {},
   "source": [
    "Now that we have all the same correct data types, we need to subset the tracts relationship dataframe.\n",
    "\n",
    "We need to only look at the rows of the tracts dataframe that have the ids from CEJST. \n",
    "Once we find these rows, we should be able to find the 2020 codes"
   ]
  },
  {
   "cell_type": "code",
   "execution_count": 167,
   "metadata": {},
   "outputs": [],
   "source": [
    "old_ids = pd.Series(cejst_ids[np.isin(cejst_ids, tract_sheet['GEOID_TRACT_10'])])\n",
    "newdf = tract_sheet[np.isin(tract_sheet['GEOID_TRACT_10'], old_ids)]"
   ]
  },
  {
   "cell_type": "code",
   "execution_count": 175,
   "metadata": {},
   "outputs": [
    {
     "name": "stdout",
     "output_type": "stream",
     "text": [
      "2799 2796 1969\n",
      "Return to this, it seems like we may have added 3 new fips codes. BUT, I believe this process is correct. in the next cell i figure it out.\n"
     ]
    }
   ],
   "source": [
    "print(len(newdf.GEOID_TRACT_20.unique()), len(ej_ids), len(newdf.GEOID_TRACT_10.unique()))\n",
    "print('Return to this, it seems like we may have added 3 new fips codes. BUT, I believe this process is correct. in the next cell i figure it out.')"
   ]
  },
  {
   "cell_type": "code",
   "execution_count": 181,
   "metadata": {},
   "outputs": [
    {
     "name": "stdout",
     "output_type": "stream",
     "text": [
      "       GEOID_TRACT_20  GEOID_TRACT_10\n",
      "30974     13001950100     13001950100\n",
      "30975     13001950201     13001950200\n",
      "30976     13001950202     13001950200\n",
      "30977     13001950301     13001950300\n",
      "30978     13001950302     13001950300\n",
      "...               ...             ...\n",
      "34691     13321950500     13321950500\n",
      "34692     13321950600     13321950600\n",
      "82048     37039930604     13111050100\n",
      "99906     45053950302     13051010605\n",
      "99909     45053990100     13051990000\n",
      "\n",
      "[3714 rows x 2 columns]\n",
      "the last three rows are nonsense, this explains earlier.\n"
     ]
    }
   ],
   "source": [
    "ga_fips_conv = newdf.loc[:, ['GEOID_TRACT_20', 'GEOID_TRACT_10']]\n",
    "print(ga_fips_conv)\n",
    "print('the last three rows are nonsense, this explains earlier.')"
   ]
  },
  {
   "cell_type": "code",
   "execution_count": 183,
   "metadata": {},
   "outputs": [
    {
     "name": "stdout",
     "output_type": "stream",
     "text": [
      "       GEOID_TRACT_20  GEOID_TRACT_10\n",
      "30974     13001950100     13001950100\n",
      "30975     13001950201     13001950200\n",
      "30976     13001950202     13001950200\n",
      "30977     13001950301     13001950300\n",
      "30978     13001950302     13001950300\n",
      "...               ...             ...\n",
      "34685     13319960300     13319960300\n",
      "34686     13319960400     13319960400\n",
      "34687     13321950100     13321950100\n",
      "34688     13321950201     13321950200\n",
      "34689     13321950202     13321950200\n",
      "\n",
      "[3708 rows x 2 columns]\n",
      "Fixed\n"
     ]
    }
   ],
   "source": [
    "ga_fips_conv = ga_fips_conv[:-3]\n",
    "print(ga_fips_conv)\n",
    "print('Fixed')"
   ]
  },
  {
   "attachments": {},
   "cell_type": "markdown",
   "metadata": {},
   "source": [
    "Writing new conversion dataframe to csv."
   ]
  },
  {
   "cell_type": "code",
   "execution_count": 188,
   "metadata": {},
   "outputs": [
    {
     "name": "stdout",
     "output_type": "stream",
     "text": [
      "converted to csv\n"
     ]
    }
   ],
   "source": [
    "ga_fips_conv = pd.DataFrame(ga_fips_conv)\n",
    "file_path = '/Users/jacoblapp/Desktop/Sci4GA/sci4ga_ej_tools_and_data/ga_fips_conv.csv'\n",
    "ga_fips_conv.to_csv(file_path, index = False)\n",
    "print('converted to csv')"
   ]
  }
 ],
 "metadata": {
  "kernelspec": {
   "display_name": "base",
   "language": "python",
   "name": "python3"
  },
  "language_info": {
   "codemirror_mode": {
    "name": "ipython",
    "version": 3
   },
   "file_extension": ".py",
   "mimetype": "text/x-python",
   "name": "python",
   "nbconvert_exporter": "python",
   "pygments_lexer": "ipython3",
   "version": "3.9.13"
  },
  "orig_nbformat": 4,
  "vscode": {
   "interpreter": {
    "hash": "4b7a9cdd7b77f61b80329a58f6e7cdbe44cf39ccdb10254573295aab4a10a271"
   }
  }
 },
 "nbformat": 4,
 "nbformat_minor": 2
}
